{
 "cells": [
  {
   "cell_type": "code",
   "execution_count": 30,
   "id": "4a14c19c-5ed2-42d3-abc1-0e385b34f21c",
   "metadata": {},
   "outputs": [],
   "source": [
    "import torch\n",
    "import torch.nn as nn\n",
    "\n",
    "import numpy as np"
   ]
  },
  {
   "cell_type": "code",
   "execution_count": 7,
   "id": "299d74ee-cb7b-4348-8166-aefd83f1bfac",
   "metadata": {},
   "outputs": [],
   "source": [
    "DEBUG = True"
   ]
  },
  {
   "cell_type": "code",
   "execution_count": 13,
   "id": "14d0d861-d96d-488d-ba6e-9f39285731c0",
   "metadata": {},
   "outputs": [],
   "source": [
    "class CarEnv:\n",
    "    def __init__(self, init_state=5):\n",
    "        self.state = init_state\n",
    "        \n",
    "        self.left_edge = 0\n",
    "        self.right_edge = 10\n",
    "        self.left_area = [0.5,1.5]\n",
    "        self.right_area = [7.5,8.5]\n",
    "        self.left_reward = 1\n",
    "        self.right_reward = 10\n",
    "        self.right_area_reward = 1\n",
    "        self.left_area_reward = 2\n",
    "    \n",
    "        self.isdone = False\n",
    "    \n",
    "    def step(self, action):\n",
    "        self.state = self.state + action\n",
    "        reward = 0\n",
    "        \n",
    "        if self.left_area[0] < self.state < self.left_area[1]:\n",
    "            reward = self.left_area_reward\n",
    "        if self.right_area[0] < self.state < self.right_area[1]:\n",
    "            reward = self.right_area_reward\n",
    "        if self.state <= self.left_edge:\n",
    "            reward = self.left_reward\n",
    "            self.isdone = True\n",
    "        if self.state >= self.right_edge:\n",
    "            reward = self.right_reward\n",
    "            self.isdone = True\n",
    "            \n",
    "        return self.state, reward, self.isdone\n",
    "    \n",
    "    def reset(self):\n",
    "        self.isdone = False"
   ]
  },
  {
   "cell_type": "code",
   "execution_count": 25,
   "id": "35c1cf2c-1294-4083-af6e-88cecca2d119",
   "metadata": {},
   "outputs": [
    {
     "name": "stdout",
     "output_type": "stream",
     "text": [
      "8 1 False\n"
     ]
    }
   ],
   "source": [
    "if DEBUG:\n",
    "    env = CarEnv()\n",
    "    state, reward, isdone = env.step(3)\n",
    "    print(state, reward, isdone)"
   ]
  },
  {
   "cell_type": "code",
   "execution_count": 28,
   "id": "ff3b16a0-213a-467f-9f52-a68bc5844358",
   "metadata": {},
   "outputs": [],
   "source": [
    "class OUActionNoise:\n",
    "    def __init__(self, mean, std, theta=0.15, dt=1e-2, x_init=None):\n",
    "        self.theta = theta\n",
    "        self.mean = mean\n",
    "        self.std = std\n",
    "        self.dt = dt\n",
    "        self.x_init = x_init\n",
    "        self.reset()\n",
    "        \n",
    "    def __call__(self):\n",
    "        x = self.x_prev + \\\n",
    "            self.theta * (self.mean - self.x_prev) * self.dt + \\\n",
    "            self.std * np.sqrt(self.dt) * np.random.normal(size=self.mean.shape)\n",
    "        self.x_prev = x\n",
    "        return x\n",
    "        \n",
    "    def reset(self):\n",
    "        if self.x_init is not None:\n",
    "            self.x_prev = self.x_init\n",
    "        else:\n",
    "            self.x_prev = np.zeros_like(self.mean)\n",
    "    \n"
   ]
  },
  {
   "cell_type": "code",
   "execution_count": 37,
   "id": "44de2dbd-4269-41c0-8423-c02df9afd055",
   "metadata": {},
   "outputs": [
    {
     "name": "stdout",
     "output_type": "stream",
     "text": [
      "[0.02005493 0.05947169]\n",
      "[0.01012213 0.13860684]\n",
      "[0.15537483 0.31872868]\n",
      "[0.17688757 0.3215968 ]\n"
     ]
    }
   ],
   "source": [
    "if DEBUG:\n",
    "    noize = OUActionNoise(np.array([0,0]), np.array([1,1]))\n",
    "    for _ in range(4):\n",
    "        print(noize())\n",
    "    "
   ]
  },
  {
   "cell_type": "code",
   "execution_count": null,
   "id": "dd0586c9-d739-4c14-aed7-846f68564ad3",
   "metadata": {},
   "outputs": [],
   "source": [
    "class Buffer:\n",
    "    def __init__(self, capacity=1e+5):\n",
    "        self.capacity = capacity\n",
    "        \n",
    "        self.record_call_counter = 0\n",
    "        \n",
    "        self.state = np.zeros((self.capacity, n_states))\n",
    "        self.action = np.zeros((self.capacity, n_actions))\n",
    "        self.reward = np.zeros((self.capacity, 1))\n",
    "        self.next_state = np.zeros((self.capacity, n_states))\n",
    "    \n",
    "    def record(self, state, action, reward, next_state):\n",
    "        index = self.record_call_counter % self.capacity\n",
    "            \n",
    "        self.state[index] = state\n",
    "        self.action[index] = action\n",
    "        self.reward[index] = reward\n",
    "        self.next_state[index] = next_state\n",
    "        \n",
    "        self.record_call_counter += 1\n",
    "        \n",
    "    def sample(self, batch_size=64):\n",
    "        \n",
    "        \n",
    "    "
   ]
  },
  {
   "cell_type": "code",
   "execution_count": 5,
   "id": "66b29e74-bf31-41d5-bfbe-7be3537571fa",
   "metadata": {},
   "outputs": [],
   "source": [
    "    \n",
    "class Actor(nn.Module):\n",
    "    def __init__(self):\n",
    "        pass\n",
    "    def forward(self):\n",
    "        pass\n",
    "    \n",
    "class Critic(nn.Module):\n",
    "    def __init__(self):\n",
    "        pass\n",
    "    def forward(self):\n",
    "        pass\n",
    "\n",
    "class DDPG(nn.Module):\n",
    "    def __init__(self):\n",
    "        pass\n",
    "    def forward(self):\n",
    "        pass"
   ]
  },
  {
   "cell_type": "code",
   "execution_count": null,
   "id": "f5d812ab-b57a-49cc-9cf4-0f7ffeecc6cd",
   "metadata": {},
   "outputs": [],
   "source": []
  }
 ],
 "metadata": {
  "kernelspec": {
   "display_name": "Python 3 (ipykernel)",
   "language": "python",
   "name": "python3"
  },
  "language_info": {
   "codemirror_mode": {
    "name": "ipython",
    "version": 3
   },
   "file_extension": ".py",
   "mimetype": "text/x-python",
   "name": "python",
   "nbconvert_exporter": "python",
   "pygments_lexer": "ipython3",
   "version": "3.10.4"
  }
 },
 "nbformat": 4,
 "nbformat_minor": 5
}
