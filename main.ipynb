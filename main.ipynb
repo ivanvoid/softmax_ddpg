{
 "cells": [
  {
   "cell_type": "code",
   "execution_count": 6,
   "id": "4a14c19c-5ed2-42d3-abc1-0e385b34f21c",
   "metadata": {},
   "outputs": [],
   "source": [
    "import torch\n",
    "import torch.nn as nn"
   ]
  },
  {
   "cell_type": "code",
   "execution_count": 7,
   "id": "299d74ee-cb7b-4348-8166-aefd83f1bfac",
   "metadata": {},
   "outputs": [],
   "source": [
    "DEBUG = True"
   ]
  },
  {
   "cell_type": "code",
   "execution_count": 13,
   "id": "14d0d861-d96d-488d-ba6e-9f39285731c0",
   "metadata": {},
   "outputs": [],
   "source": [
    "class CarEnv:\n",
    "    def __init__(self, init_state=5):\n",
    "        self.state = init_state\n",
    "        \n",
    "        self.left_edge = 0\n",
    "        self.right_edge = 10\n",
    "        self.left_area = [0.5,1.5]\n",
    "        self.right_area = [7.5,8.5]\n",
    "        self.left_reward = 1\n",
    "        self.right_reward = 10\n",
    "        self.right_area_reward = 1\n",
    "        self.left_area_reward = 2\n",
    "    \n",
    "        self.isdone = False\n",
    "    \n",
    "    def step(self, action):\n",
    "        self.state = self.state + action\n",
    "        reward = 0\n",
    "        \n",
    "        if self.left_area[0] < self.state < self.left_area[1]:\n",
    "            reward = self.left_area_reward\n",
    "        if self.right_area[0] < self.state < self.right_area[1]:\n",
    "            reward = self.right_area_reward\n",
    "        if self.state <= self.left_edge:\n",
    "            reward = self.left_reward\n",
    "            self.isdone = True\n",
    "        if self.state >= self.right_edge:\n",
    "            reward = self.right_reward\n",
    "            self.isdone = True\n",
    "            \n",
    "        return self.state, reward, self.isdone\n",
    "    \n",
    "    def reset(self):\n",
    "        self.isdone = False"
   ]
  },
  {
   "cell_type": "code",
   "execution_count": 25,
   "id": "35c1cf2c-1294-4083-af6e-88cecca2d119",
   "metadata": {},
   "outputs": [
    {
     "name": "stdout",
     "output_type": "stream",
     "text": [
      "8 1 False\n"
     ]
    }
   ],
   "source": [
    "if DEBUG:\n",
    "    env = CarEnv()\n",
    "    state, reward, isdone = env.step(3)\n",
    "    print(state, reward, isdone)"
   ]
  },
  {
   "cell_type": "code",
   "execution_count": 5,
   "id": "66b29e74-bf31-41d5-bfbe-7be3537571fa",
   "metadata": {},
   "outputs": [],
   "source": [
    "class Actor(nn.Module):\n",
    "    def __init__(self):\n",
    "        pass\n",
    "    def forward(self):\n",
    "        pass\n",
    "    \n",
    "class Critic(nn.Module):\n",
    "    def __init__(self):\n",
    "        pass\n",
    "    def forward(self):\n",
    "        pass\n",
    "\n",
    "class DDPG(nn.Module):\n",
    "    def __init__(self):\n",
    "        pass\n",
    "    def forward(self):\n",
    "        pass"
   ]
  },
  {
   "cell_type": "code",
   "execution_count": null,
   "id": "f5d812ab-b57a-49cc-9cf4-0f7ffeecc6cd",
   "metadata": {},
   "outputs": [],
   "source": []
  }
 ],
 "metadata": {
  "kernelspec": {
   "display_name": "Python 3 (ipykernel)",
   "language": "python",
   "name": "python3"
  },
  "language_info": {
   "codemirror_mode": {
    "name": "ipython",
    "version": 3
   },
   "file_extension": ".py",
   "mimetype": "text/x-python",
   "name": "python",
   "nbconvert_exporter": "python",
   "pygments_lexer": "ipython3",
   "version": "3.10.4"
  }
 },
 "nbformat": 4,
 "nbformat_minor": 5
}
